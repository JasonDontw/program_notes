{
 "cells": [
  {
   "cell_type": "markdown",
   "metadata": {},
   "source": [
    "# 在jupyter中會錯誤請自行創建.py檔執行"
   ]
  },
  {
   "cell_type": "markdown",
   "metadata": {},
   "source": [
    "#### ma.py"
   ]
  },
  {
   "cell_type": "code",
   "execution_count": 5,
   "metadata": {},
   "outputs": [],
   "source": [
    "def add_int(x, y): #判斷兩者是否為整數是的話相加\n",
    "    if isinstance(x, int) and isinstance(y, int):\n",
    "        print(x + y)\n",
    "        return True\n",
    "    else:\n",
    "        return False \n",
    "        \n",
    "def sub_int(x, y): #判斷兩者是否為整數是的話相減\n",
    "    if isinstance(x, int) and isinstance(y, int):\n",
    "        print(x - y) \n",
    "        return True\n",
    "    else:\n",
    "        return False \n",
    "\n",
    "def time_int(x, y): #判斷兩者是否為整數是的話相乘\n",
    "    if isinstance(x, int) and isinstance(y, int):\n",
    "        print(x * y)\n",
    "        return True\n",
    "    else:\n",
    "        return False        "
   ]
  },
  {
   "cell_type": "markdown",
   "metadata": {},
   "source": [
    "#### test_ma.py"
   ]
  },
  {
   "cell_type": "code",
   "execution_count": 3,
   "metadata": {},
   "outputs": [],
   "source": [
    "import unittest\n",
    "from ma import *\n",
    "class TestMath(unittest.TestCase):\n",
    "    def test_add_int(self): #在class裡面定義的函示都必須加上self，傳入變數對應從self後面開始算\n",
    "        #設定情境\n",
    "        result1 = add_int(1,2) \n",
    "        return result1==3 \n",
    "    \n",
    "    def test_sub_int(self): #在class裡面定義的函示都必須加上self，傳入變數對應從self後面開始算\n",
    "        #設定情境\n",
    "        result2 = sub_int(2,1) \n",
    "        return result2==1 \n",
    "    \n",
    "    def test_time_int(self): #在class裡面定義的函示都必須加上self，傳入變數對應從self後面開始算\n",
    "        #設定情境\n",
    "        result3 = time_int(1,2) \n",
    "        return result3==2 \n",
    "    \n",
    "unittest.main()"
   ]
  }
 ],
 "metadata": {
  "kernelspec": {
   "display_name": "Python 3",
   "language": "python",
   "name": "python3"
  },
  "language_info": {
   "codemirror_mode": {
    "name": "ipython",
    "version": 3
   },
   "file_extension": ".py",
   "mimetype": "text/x-python",
   "name": "python",
   "nbconvert_exporter": "python",
   "pygments_lexer": "ipython3",
   "version": "3.7.1"
  }
 },
 "nbformat": 4,
 "nbformat_minor": 2
}
