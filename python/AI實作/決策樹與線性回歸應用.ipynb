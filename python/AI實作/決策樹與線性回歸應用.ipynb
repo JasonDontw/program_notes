{
 "cells": [
  {
   "cell_type": "markdown",
   "metadata": {},
   "source": [
    "# 決策樹"
   ]
  },
  {
   "cell_type": "code",
   "execution_count": 37,
   "metadata": {},
   "outputs": [],
   "source": [
    "import pymysql\n",
    "import pandas as pd\n",
    "import numpy as np\n",
    "from sklearn.model_selection import train_test_split\n",
    "from sklearn.tree import DecisionTreeClassifier\n",
    "from sklearn.linear_model import LinearRegression\n",
    "from sklearn import metrics  #可以通過比較實際測試組值和預測值來計算準確度"
   ]
  },
  {
   "cell_type": "code",
   "execution_count": 38,
   "metadata": {},
   "outputs": [],
   "source": [
    "#連結資料庫\n",
    "conn = pymysql.connect(\"140.124.42.180\",\"guest\",\"guest\",\"cloud_computing\")\n",
    "#創建一個此資料庫物件\n",
    "cursor = conn.cursor()"
   ]
  },
  {
   "cell_type": "code",
   "execution_count": 39,
   "metadata": {},
   "outputs": [
    {
     "data": {
      "text/plain": [
       "1049"
      ]
     },
     "execution_count": 39,
     "metadata": {},
     "output_type": "execute_result"
    }
   ],
   "source": [
    "#用execute來執行SQL語法\n",
    "cursor.execute(\"SELECT * FROM `practice`\")"
   ]
  },
  {
   "cell_type": "code",
   "execution_count": 40,
   "metadata": {},
   "outputs": [],
   "source": [
    "#取出1筆物件\n",
    "data = cursor.fetchone()"
   ]
  },
  {
   "cell_type": "code",
   "execution_count": 41,
   "metadata": {},
   "outputs": [
    {
     "name": "stdout",
     "output_type": "stream",
     "text": [
      "(1846195, 1, 20, 20, 1, 1, 10, 1, '468,000', 781127, 0, '仁勇里', 4105)\n"
     ]
    }
   ],
   "source": [
    "print(data)"
   ]
  },
  {
   "cell_type": "code",
   "execution_count": 42,
   "metadata": {},
   "outputs": [],
   "source": [
    "#使用SQL語法取出資料庫資料\n",
    "df = pd.read_sql(\"SELECT * FROM `practice`\",con=conn)"
   ]
  },
  {
   "cell_type": "code",
   "execution_count": 43,
   "metadata": {},
   "outputs": [],
   "source": [
    "#去除無用符號\n",
    "df['price'] = df['price'].str.replace(',','')\n",
    "df['price'] = df['price'].str.replace('-','')"
   ]
  },
  {
   "cell_type": "code",
   "execution_count": 44,
   "metadata": {
    "scrolled": true
   },
   "outputs": [],
   "source": [
    "#去除空值\n",
    "#記得要寫回去不能單純執行函式\n",
    "df = df.drop(df[(df.price == \"\")].index)"
   ]
  },
  {
   "cell_type": "code",
   "execution_count": 45,
   "metadata": {},
   "outputs": [],
   "source": [
    "#將字串轉成int\n",
    "df[['price']] = df[['price']].astype(int)"
   ]
  },
  {
   "cell_type": "code",
   "execution_count": 46,
   "metadata": {},
   "outputs": [],
   "source": [
    "clos = ['bus_station','school','hospital','subway_station','movie_theater','price','population']"
   ]
  },
  {
   "cell_type": "code",
   "execution_count": 47,
   "metadata": {},
   "outputs": [],
   "source": [
    "#branch_o_int 狀態(開店:1 結束 :3)\n",
    "x = df[['bus_station','school','hospital','subway_station','movie_theater','price','population']]\n",
    "y = df[['branch_o_int']]"
   ]
  },
  {
   "cell_type": "code",
   "execution_count": 48,
   "metadata": {
    "scrolled": true
   },
   "outputs": [],
   "source": [
    "#將資料分成訓練跟測試\n",
    "x_train , x_test , y_train , y_test = train_test_split(x,y,test_size=0.3,random_state=80)"
   ]
  },
  {
   "cell_type": "code",
   "execution_count": 49,
   "metadata": {},
   "outputs": [],
   "source": [
    "#創立決策樹模型\n",
    "clf = DecisionTreeClassifier()\n",
    "#訓練\n",
    "clf = clf.fit(x_train , y_train)"
   ]
  },
  {
   "cell_type": "code",
   "execution_count": 50,
   "metadata": {},
   "outputs": [],
   "source": [
    "#預測\n",
    "y_test_predicted = clf.predict(x_test)"
   ]
  },
  {
   "cell_type": "code",
   "execution_count": 51,
   "metadata": {},
   "outputs": [],
   "source": [
    "#計算準確度\n",
    "accuracy_test = metrics.balanced_accuracy_score(y_test,y_test_predicted)"
   ]
  },
  {
   "cell_type": "code",
   "execution_count": 52,
   "metadata": {},
   "outputs": [
    {
     "name": "stdout",
     "output_type": "stream",
     "text": [
      "0.6028595817328212\n"
     ]
    }
   ],
   "source": [
    "print(accuracy_test)"
   ]
  },
  {
   "cell_type": "markdown",
   "metadata": {},
   "source": [
    "# 線性回歸"
   ]
  },
  {
   "cell_type": "code",
   "execution_count": 21,
   "metadata": {},
   "outputs": [],
   "source": [
    "import pymysql\n",
    "import pandas as pd\n",
    "import numpy as np\n",
    "from sklearn.model_selection import train_test_split #用於分離資料\n",
    "from sklearn.linear_model import LinearRegression #訓練模型\n",
    "from sklearn import metrics  #用於比較實際值和預測值的準確度\n",
    "import math\n",
    "import random"
   ]
  },
  {
   "cell_type": "code",
   "execution_count": 22,
   "metadata": {},
   "outputs": [],
   "source": [
    "#連結資料庫\n",
    "conn = pymysql.connect(\"140.124.42.180\",\"guest\",\"guest\",\"cloud_computing\")\n",
    "#創建一個此資料庫物件\n",
    "cursor = conn.cursor()"
   ]
  },
  {
   "cell_type": "code",
   "execution_count": 23,
   "metadata": {},
   "outputs": [
    {
     "data": {
      "text/plain": [
       "1049"
      ]
     },
     "execution_count": 23,
     "metadata": {},
     "output_type": "execute_result"
    }
   ],
   "source": [
    "#用execute來執行SQL語法\n",
    "cursor.execute(\"SELECT * FROM `practice`\")"
   ]
  },
  {
   "cell_type": "code",
   "execution_count": 24,
   "metadata": {},
   "outputs": [],
   "source": [
    "#使用SQL語法取出資料庫資料\n",
    "df = pd.read_sql(\"SELECT * FROM `practice`\",con=conn)"
   ]
  },
  {
   "cell_type": "code",
   "execution_count": 25,
   "metadata": {},
   "outputs": [],
   "source": [
    "#去除無用符號\n",
    "df['price'] = df['price'].str.replace(',','')\n",
    "df['price'] = df['price'].str.replace('-','')"
   ]
  },
  {
   "cell_type": "code",
   "execution_count": 26,
   "metadata": {},
   "outputs": [],
   "source": [
    "#去除空值\n",
    "#記得要寫回去不能單純執行函式\n",
    "df = df.drop(df[(df.price == \"\")].index)"
   ]
  },
  {
   "cell_type": "code",
   "execution_count": 27,
   "metadata": {},
   "outputs": [],
   "source": [
    "#將字串轉成int\n",
    "df[['price']] = df[['price']].astype(int)"
   ]
  },
  {
   "cell_type": "code",
   "execution_count": 28,
   "metadata": {},
   "outputs": [],
   "source": [
    "clos = ['bus_station','school','hospital','subway_station','movie_theater','price','population']"
   ]
  },
  {
   "cell_type": "code",
   "execution_count": 29,
   "metadata": {},
   "outputs": [],
   "source": [
    "#branch_o_int 狀態(開店:1 結束 :3)\n",
    "x1 = df[['bus_station','school','hospital','subway_station','movie_theater','price','population']]\n",
    "y1 = df[['branch_o_int']]"
   ]
  },
  {
   "cell_type": "code",
   "execution_count": 30,
   "metadata": {},
   "outputs": [],
   "source": [
    "#將資料分成訓練跟測試\n",
    "x1_train , x1_test , y1_train , y1_test = train_test_split(x1,y1,test_size=0.3,random_state=random.randint(1,100))"
   ]
  },
  {
   "cell_type": "code",
   "execution_count": 31,
   "metadata": {},
   "outputs": [],
   "source": [
    "#創立線性回歸模型\n",
    "clf1 = LinearRegression()\n",
    "#訓練\n",
    "clf1 = clf1.fit(x1_train , y1_train)"
   ]
  },
  {
   "cell_type": "code",
   "execution_count": 32,
   "metadata": {
    "scrolled": true
   },
   "outputs": [],
   "source": [
    "#預測\n",
    "y1_test_predicted = clf1.predict(x1_test)"
   ]
  },
  {
   "cell_type": "code",
   "execution_count": 33,
   "metadata": {},
   "outputs": [],
   "source": [
    "#整理數據 \n",
    "y1_test=y1_test.values #把Dataframe轉乘list\n",
    "y1_test= y1_test.reshape(1,312)\n",
    "y1_test_rearr=[]\n",
    "\n",
    "for a in y1_test[0][0:312]:\n",
    "   y1_test_rearr.append(a)\n",
    "\n",
    "y1_test_predicted_rearr=[]\n",
    "y1_test_predicted= y1_test_predicted.reshape(1,312)\n",
    "\n",
    "for b in y1_test_predicted[0][0:312]:\n",
    "  #y1_test_predicted_rearr.append(round(b))  #四捨五入\n",
    "  #y1_test_predicted_rearr.append(int(b))   #取整數\n",
    "   y1_test_predicted_rearr.append(math.ceil(b))  #無條件進位\n",
    "\n",
    "y1_test_predicted_rearr2=[]\n",
    "for k in y1_test_predicted_rearr:\n",
    "    if k == 0:\n",
    "        y1_test_predicted_rearr2.append(k+1)\n",
    "    if k == 1:\n",
    "        y1_test_predicted_rearr2.append(k)\n",
    "    if k == 2:\n",
    "        y1_test_predicted_rearr2.append(k+1)\n",
    "    if k == 3:\n",
    "        y1_test_predicted_rearr2.append(k)"
   ]
  },
  {
   "cell_type": "code",
   "execution_count": 34,
   "metadata": {
    "scrolled": true
   },
   "outputs": [],
   "source": [
    "#計算準確度\n",
    "accuracy_test1 = metrics.balanced_accuracy_score(y1_test_rearr,y1_test_predicted_rearr2)"
   ]
  },
  {
   "cell_type": "code",
   "execution_count": 35,
   "metadata": {
    "scrolled": true
   },
   "outputs": [
    {
     "name": "stdout",
     "output_type": "stream",
     "text": [
      "0.5302564619337935\n"
     ]
    }
   ],
   "source": [
    "print(accuracy_test1)"
   ]
  },
  {
   "cell_type": "code",
   "execution_count": null,
   "metadata": {},
   "outputs": [],
   "source": []
  }
 ],
 "metadata": {
  "kernelspec": {
   "display_name": "Python 3",
   "language": "python",
   "name": "python3"
  },
  "language_info": {
   "codemirror_mode": {
    "name": "ipython",
    "version": 3
   },
   "file_extension": ".py",
   "mimetype": "text/x-python",
   "name": "python",
   "nbconvert_exporter": "python",
   "pygments_lexer": "ipython3",
   "version": "3.7.1"
  }
 },
 "nbformat": 4,
 "nbformat_minor": 2
}
