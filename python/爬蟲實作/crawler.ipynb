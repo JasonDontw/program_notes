{
 "cells": [
  {
   "cell_type": "markdown",
   "metadata": {},
   "source": [
    "# 基本爬蟲"
   ]
  },
  {
   "cell_type": "code",
   "execution_count": null,
   "metadata": {},
   "outputs": [],
   "source": [
    "#爬PTT\n",
    "import requests\n",
    "from bs4 import BeautifulSoup\n",
    "\n",
    "r = requests.get(\"https://www.ptt.cc/bbs/MobileComm/index.html\") #將網頁資料GET下來\n",
    "soup = BeautifulSoup(r.text,\"html.parser\") #將網頁原始碼r.text用BeautifulSoup()解析原始碼解析使用pythone內建的網頁分析器html.parser分析\n",
    "sel = soup.select(\"div.title a\") #取HTML標中的 <div class=\"title\"></div> 中的<a>標籤存入sel\n",
    "for s in sel:\n",
    "    print(s.text) "
   ]
  },
  {
   "cell_type": "code",
   "execution_count": null,
   "metadata": {
    "scrolled": true
   },
   "outputs": [],
   "source": [
    "#爬金十\n",
    "import requests\n",
    "from bs4 import BeautifulSoup\n",
    "\n",
    "r = requests.get(\"https://www.jin10.com/\") #將網頁資料GET下來\n",
    "r.encoding='UTF-8'\n",
    "soup = BeautifulSoup(r.text,'lxml') #將網頁原始碼r.text用BeautifulSoup()解析原始碼解析使用pythone內建的網頁分析器html.parser分析\n",
    "t = soup.select(\"div.jin-flash_time\")#取HTML標中的 <div class=\"jin-flash_time\"></div>標籤存入t\n",
    "sel = soup.select(\"div.jin-flash_b h4\") #取HTML標中的 <div class=\"jin-flash_b\"></div> 中的<h4>標籤存入sel\n",
    "for te,se in zip(t,sel): #雙變數迴圈\n",
    "    print(te.text,se.text) "
   ]
  },
  {
   "cell_type": "markdown",
   "metadata": {},
   "source": [
    "# selenium基本用法"
   ]
  },
  {
   "cell_type": "code",
   "execution_count": null,
   "metadata": {},
   "outputs": [],
   "source": [
    "from selenium import webdriver\n",
    "import time"
   ]
  },
  {
   "cell_type": "code",
   "execution_count": null,
   "metadata": {},
   "outputs": [],
   "source": [
    "chrome_path = 'C:\\selenium_driver_chrome\\chromedriver.exe' #selenium需搭配google drive使用\n",
    "web = webdriver.Chrome(chrome_path) #啟動selenium webdriver，指定使用Chrome，放入google drive路徑"
   ]
  },
  {
   "cell_type": "code",
   "execution_count": null,
   "metadata": {},
   "outputs": [],
   "source": [
    "web.get('http://www.cwb.gov.tw/V7/') #取得網址\n",
    "web.set_window_position(0,100) #瀏覽器位置\n",
    "web.set_window_size(1080,1280) #瀏覽器大小\n",
    "time.sleep(5) #暫停5秒\n",
    "web.find_element_by_link_text('天氣').click() #點擊頁面上\"天氣\"的連結\n",
    "web.find_element_by_link_text('天氣排行榜').click() #點擊頁面上\"天氣\"的連結\n",
    "time.sleep(5) #暫停5秒\n",
    "#web.close() #網頁關閉\n",
    "\n",
    "\n",
    "#selenium指令\n",
    "#find_element_by_id\n",
    "#find_element_by_name\n",
    "#find_element_by_xpath\n",
    "#find_element_by_link_text\n",
    "#find_element_by_partial_link_text\n",
    "#find_element_by_tag_name\n",
    "#find_element_by_class_name\n",
    "#find_element_by_css_selector"
   ]
  },
  {
   "cell_type": "markdown",
   "metadata": {},
   "source": [
    "# 爬蟲自動下一頁"
   ]
  },
  {
   "cell_type": "code",
   "execution_count": 1,
   "metadata": {},
   "outputs": [],
   "source": [
    "from selenium import webdriver\n",
    "from bs4 import BeautifulSoup\n",
    "import time"
   ]
  },
  {
   "cell_type": "code",
   "execution_count": null,
   "metadata": {},
   "outputs": [],
   "source": [
    "chrome_path = 'C:\\selenium_driver_chrome\\chromedriver.exe' #selenium需搭配google drive使用\n",
    "web = webdriver.Chrome(chrome_path) #啟動selenium webdriver，指定使用Chrome，放入google drive路徑\n",
    "web.get('https://anewstip.com/search/tweets/?q=AI+mobile&fsb=journalists#')"
   ]
  },
  {
   "cell_type": "code",
   "execution_count": null,
   "metadata": {},
   "outputs": [],
   "source": [
    "for i in range(0,5):\n",
    "    web.find_element_by_link_text('Next').click() #點擊下一頁\n",
    "    soup = BeautifulSoup(web.page_source, 'html.parser') #分析原始碼\n",
    "    for ele in soup.select('.info-name a'): #選取class為.info-name的TAG裡面的TAG a \n",
    "        print(ele.string) #提取tag裡的內容\n",
    "        \n",
    "#查找標籤 soup.find_all('tag') \n",
    "#查找文本 soup.find_all(text='text') \n",
    "#根據id查找 soup.find_all(id='tag id') \n",
    "#使用正則soup.find_all(text=re.compile('your re')), soup.find_all(id=re.compile('your re')) \n",
    "#指定屬性查找標籤soup.find_all('tag', {'id ': 'tag id', 'class': 'tag class'})"
   ]
  },
  {
   "cell_type": "code",
   "execution_count": null,
   "metadata": {},
   "outputs": [],
   "source": []
  },
  {
   "cell_type": "code",
   "execution_count": null,
   "metadata": {},
   "outputs": [],
   "source": []
  },
  {
   "cell_type": "code",
   "execution_count": null,
   "metadata": {},
   "outputs": [],
   "source": []
  }
 ],
 "metadata": {
  "kernelspec": {
   "display_name": "Python 3",
   "language": "python",
   "name": "python3"
  },
  "language_info": {
   "codemirror_mode": {
    "name": "ipython",
    "version": 3
   },
   "file_extension": ".py",
   "mimetype": "text/x-python",
   "name": "python",
   "nbconvert_exporter": "python",
   "pygments_lexer": "ipython3",
   "version": "3.7.1"
  }
 },
 "nbformat": 4,
 "nbformat_minor": 2
}
